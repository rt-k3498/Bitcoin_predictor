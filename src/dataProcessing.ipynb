{
 "cells": [
  {
   "cell_type": "markdown",
   "id": "a89b0adf",
   "metadata": {},
   "source": [
    "Paths"
   ]
  },
  {
   "cell_type": "code",
   "execution_count": 10,
   "id": "b1fc00c4",
   "metadata": {},
   "outputs": [],
   "source": [
    "import os \n",
    "\n",
    "datasetPath = os.getcwd() + \"/../dataset\"\n",
    "btc_2017_path = datasetPath + \"/BTC-2017min.csv\"\n",
    "btc_2018_path = datasetPath + \"/BTC-2018min.csv\"\n",
    "btc_2019_path = datasetPath + \"/BTC-2019min.csv\"\n",
    "btc_2020_path = datasetPath + \"/BTC-2020min.csv\"\n",
    "btc_2021_path = datasetPath + \"/BTC-2021min.csv\"\n"
   ]
  },
  {
   "cell_type": "code",
   "execution_count": 13,
   "id": "962a98e0",
   "metadata": {},
   "outputs": [],
   "source": [
    "import pandas as pd\n",
    "import numpy as np\n",
    "import matplotlib.pyplot as plt"
   ]
  },
  {
   "cell_type": "code",
   "execution_count": 22,
   "id": "be3c11cf",
   "metadata": {},
   "outputs": [
    {
     "name": "stdout",
     "output_type": "stream",
     "text": [
      "         unix                 date      open      high       low     close  \\\n",
      "0  1514764740  2017-12-31 23:59:00  13913.28  13913.28  13867.18  13880.00   \n",
      "1  1514764680  2017-12-31 23:58:00  13913.26  13953.83  13884.69  13953.77   \n",
      "2  1514764620  2017-12-31 23:57:00  13908.73  13913.26  13874.99  13913.26   \n",
      "3  1514764560  2017-12-31 23:56:00  13827.00  13908.69  13827.00  13859.58   \n",
      "4  1514764500  2017-12-31 23:55:00  13825.05  13825.05  13825.05  13825.05   \n",
      "\n",
      "   Volume BTC    Volume USD  \n",
      "0    0.591748   8213.456549  \n",
      "1    1.398784  19518.309658  \n",
      "2    0.775012  10782.944294  \n",
      "3    0.666459   9236.841134  \n",
      "4    0.065501    905.560130  \n"
     ]
    }
   ],
   "source": [
    "BTC_2017_dataset = pd.read_csv(btc_2017_path)\n",
    "BTC_2018_dataset = pd.read_csv(btc_2018_path)\n",
    "BTC_2019_dataset = pd.read_csv(btc_2019_path)\n",
    "BTC_2020_dataset = pd.read_csv(btc_2020_path)\n",
    "BTC_2021_dataset = pd.read_csv(btc_2021_path)\n",
    "\n",
    "BTC = pd.concat([BTC_2017_dataset, BTC_2018_dataset, BTC_2019_dataset, BTC_2020_dataset, BTC_2021_dataset], ignore_index=True)\n",
    "BTC = BTC.drop(columns=['symbol'])\n",
    "print(BTC.head(5))"
   ]
  },
  {
   "cell_type": "code",
   "execution_count": null,
   "id": "cb6d4874",
   "metadata": {},
   "outputs": [],
   "source": []
  }
 ],
 "metadata": {
  "kernelspec": {
   "display_name": "Python 3",
   "language": "python",
   "name": "python3"
  },
  "language_info": {
   "codemirror_mode": {
    "name": "ipython",
    "version": 3
   },
   "file_extension": ".py",
   "mimetype": "text/x-python",
   "name": "python",
   "nbconvert_exporter": "python",
   "pygments_lexer": "ipython3",
   "version": "3.12.7"
  }
 },
 "nbformat": 4,
 "nbformat_minor": 5
}
